{
 "nbformat": 4,
 "nbformat_minor": 2,
 "metadata": {
  "language_info": {
   "name": "python",
   "codemirror_mode": {
    "name": "ipython",
    "version": 3
   },
   "version": "3.6.5"
  },
  "orig_nbformat": 2,
  "file_extension": ".py",
  "mimetype": "text/x-python",
  "name": "python",
  "npconvert_exporter": "python",
  "pygments_lexer": "ipython3",
  "version": 3
 },
 "cells": [
  {
   "cell_type": "code",
   "execution_count": 1,
   "metadata": {},
   "outputs": [],
   "source": [
    "#Import all the dependencies\n",
    "import gensim\n",
    "from nltk import RegexpTokenizer\n",
    "from nltk.corpus import stopwords\n",
    "from os import listdir\n",
    "from os.path import isfile, join"
   ]
  },
  {
   "cell_type": "code",
   "execution_count": null,
   "metadata": {},
   "outputs": [],
   "source": [
    "#now create a list that contains the name of all the text file in your data #folderdocLabels = []\n",
    "docLabels = [f for f in listdir(\"/plaintext_articles\") if f.endswith(\".txt\")]#create a list data that stores the content of all text files in order of their names in docLabelsdata = []\n",
    "for doc in docLabels:\n",
    "  data.append(open(\"/plaintext_articles\" + doc).read())"
   ]
  },
  {
   "cell_type": "code",
   "execution_count": null,
   "metadata": {},
   "outputs": [],
   "source": [
    "tokenizer = RegexpTokenizer(r’\\w+’)\n",
    "stopword_set = set(stopwords.words(‘english’))#This function does all cleaning of data using two objects abovedef nlp_clean(data):   new_data = []\n",
    "   for d in data:\n",
    "      new_str = d.lower()\n",
    "      dlist = tokenizer.tokenize(new_str)\n",
    "      dlist = list(set(dlist).difference(stopword_set))\n",
    "      new_data.append(dlist)\n",
    "   return new_data"
   ]
  },
  {
   "cell_type": "code",
   "execution_count": null,
   "metadata": {},
   "outputs": [],
   "source": [
    "class LabeledLineSentence(object):    \n",
    "    def __init__(self, doc_list, labels_list):        \n",
    "        self.labels_list = labels_list\n",
    "        self.doc_list = doc_list    \n",
    "    def __iter__(self):        \n",
    "        for idx, doc in enumerate(self.doc_list):\n",
    "            yield gensim.models.doc2vec.LabeledSentence(doc, [self.labels_list[idx]])\n"
   ]
  },
  {
   "cell_type": "code",
   "execution_count": null,
   "metadata": {},
   "outputs": [],
   "source": [
    "data = nlp_clean(data)\n",
    "#iterator returned over all documents\n",
    "it = LabeledLineSentence(data, docLabels)"
   ]
  },
  {
   "cell_type": "code",
   "execution_count": null,
   "metadata": {},
   "outputs": [],
   "source": [
    "model = gensim.models.Doc2Vec(size=300, min_count=0, alpha=0.025, min_alpha=0.025)\n",
    "model.build_vocab(it)#training of model\n",
    "for epoch in range(100):\n",
    "    print ‘iteration ‘+str(epoch+1)\n",
    "    model.train(it)\n",
    "    model.alpha -= 0.002\n",
    "    model.min_alpha = model.alpha\n",
    "\n",
    "#saving the created model\n",
    "model.save(\"doc2vec.model\")\n",
    "print(\"model saved\")"
   ]
  },
  {
   "cell_type": "code",
   "execution_count": 2,
   "metadata": {},
   "outputs": [
    {
     "ename": "SyntaxError",
     "evalue": "invalid character in identifier (<ipython-input-2-84ec7feb7aa1>, line 2)",
     "output_type": "error",
     "traceback": [
      "\u001b[0;36m  File \u001b[0;32m\"<ipython-input-2-84ec7feb7aa1>\"\u001b[0;36m, line \u001b[0;32m2\u001b[0m\n\u001b[0;31m    d2v_model = gensim.models.doc2vec.Doc2Vec.load(‘doc2vec.model’)#start testing\u001b[0m\n\u001b[0m                                                          ^\u001b[0m\n\u001b[0;31mSyntaxError\u001b[0m\u001b[0;31m:\u001b[0m invalid character in identifier\n"
     ]
    }
   ],
   "source": [
    "#loading the model\n",
    "d2v_model = gensim.models.doc2vec.Doc2Vec.load(\"doc2vec.model\")#start testing\n",
    "#printing the vector of document at index 1 in docLabels\n",
    "docvec = d2v_model.docvecs[1]\n",
    "print(docvec)#printing the vector of the file using its name\n",
    "docvec = d2v_model.docvecs[\"saxophone.txt\"] #if string tag used in training\n",
    "print(docvec)#to get most similar document with similarity scores using document-index"
   ]
  },
  {
   "cell_type": "code",
   "execution_count": null,
   "metadata": {},
   "outputs": [],
   "source": []
  }
 ]
}