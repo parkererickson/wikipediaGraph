{
 "nbformat": 4,
 "nbformat_minor": 2,
 "metadata": {
  "language_info": {
   "name": "python",
   "codemirror_mode": {
    "name": "ipython",
    "version": 3
   },
   "version": "3.6.5"
  },
  "orig_nbformat": 2,
  "file_extension": ".py",
  "mimetype": "text/x-python",
  "name": "python",
  "npconvert_exporter": "python",
  "pygments_lexer": "ipython3",
  "version": 3
 },
 "cells": [
  {
   "source": [
    "import pyTigerGraph as tg\n",
    "import dgl\n",
    "import networkx as nx\n",
    "import torch\n",
    "from py_scripts.gat import GAT\n",
    "import torch.nn as nn\n",
    "import torch.nn.functional as F\n",
    "import py_scripts.cfg as cfg\n",
    "import gensim\n",
    "import time\n",
    "import numpy as np"
   ],
   "cell_type": "code",
   "outputs": [],
   "metadata": {},
   "execution_count": 1
  },
  {
   "source": [
    "numEpochs = 1000\n",
    "learningRate = 0.01\n",
    "wantedTopic = \"Saxophone\"\n",
    "unwantedTopic = \"Falkland_Islands\" #In future, determine automatically through the inverse of PageRank/other centrality algo"
   ],
   "cell_type": "code",
   "outputs": [],
   "metadata": {},
   "execution_count": 2
  },
  {
   "source": [
    "conn = tg.TigerGraphConnection(ipAddress=\"https://wikipediagraph.i.tgcloud.us\", apiToken=cfg.token, graphname=\"WikipediaGraph\") # connection to TigerGraph database\n",
    "\n",
    "articleToNum = {} # translation dictionary for article name to number (for dgl)\n",
    "numToArticle = {} # translation dictionary for number to article name\n",
    "i = 0\n",
    "def createEdgeList(result): # returns tuple of number version of edge\n",
    "    global i\n",
    "    if result[\"article1\"] in articleToNum:\n",
    "        fromKey = articleToNum[result[\"article1\"]]\n",
    "    else:\n",
    "        articleToNum[result[\"article1\"]] = i\n",
    "        numToArticle[i] = result[\"article1\"]\n",
    "        fromKey = i\n",
    "        i+=1\n",
    "    if result[\"article2\"] in articleToNum:\n",
    "        toKey = articleToNum[result[\"article2\"]]\n",
    "    else:\n",
    "        articleToNum[result[\"article2\"]] = i\n",
    "        numToArticle[i] = result[\"article2\"]\n",
    "        toKey = i\n",
    "        i+=1\n",
    "    return (fromKey, toKey)\n",
    "    \n",
    "edges = [createEdgeList(thing) for thing in conn.runInstalledQuery(\"tupleArticle\", {})[\"results\"][0][\"list_of_article_tuples\"]] # creates list of edges\n",
    ""
   ],
   "cell_type": "code",
   "outputs": [],
   "metadata": {},
   "execution_count": 3
  },
  {
   "source": [
    "wantedNum = articleToNum[wantedTopic]\n",
    "unwantedNum = articleToNum[unwantedTopic]\n",
    "\n",
    "g = nx.DiGraph()\n",
    "\n",
    "g.add_edges_from(edges)\n",
    "\n",
    "G = dgl.DGLGraph(g)\n",
    "\n",
    "print('We have %d nodes.' % G.number_of_nodes())\n",
    "print('We have %d edges.' % G.number_of_edges())"
   ],
   "cell_type": "code",
   "outputs": [
    {
     "output_type": "stream",
     "name": "stdout",
     "text": "We have 4588 nodes.\nWe have 119881 edges.\n"
    }
   ],
   "metadata": {},
   "execution_count": 4
  },
  {
   "source": [
    "d2v_model = gensim.models.doc2vec.Doc2Vec.load(\"doc2vec.model\")\n",
    "vectors = []\n",
    "for article in articleToNum:\n",
    "    try: \n",
    "        words = [] \n",
    "        with open((\"plaintext_articles/\"+article+\".txt\"), \"r\") as f: \n",
    "            words = f.read().lower().split() \n",
    "        vectors.append(list(d2v_model.infer_vector(words)))\n",
    "    except:\n",
    "        vectors.append([0 for i in range(300)])\n",
    "\n",
    "G.ndata[\"feat\"] = torch.tensor(vectors)\n",
    "\n",
    "print(G.nodes[2].data['feat'])"
   ],
   "cell_type": "code",
   "outputs": [
    {
     "output_type": "stream",
     "name": "stdout",
     "text": "tensor([[-13.4399,  -8.4157,  -5.7430,   5.0115,  -0.2688,  -1.9023,   0.6301,\n          12.0454,  17.6172,   2.6363,   2.7329,  -2.9679, -32.0563, -14.5386,\n           2.6261, -17.6840, -21.5968, -11.3046, -20.4120,   0.8874, -26.9279,\n          -4.9758, -12.1565,  26.8152,  17.8495,  -2.4941,   7.8032,  17.2047,\n          28.4754,  -8.9398, -23.7910,   3.0749,  -0.7522,  22.6601, -16.5475,\n          -3.4500,  12.8002, -11.0542,  17.8362,  32.9645,  -1.9119,  -6.0420,\n          10.4199,   6.0184, -10.5404, -16.5472, -12.3625,  -6.7955,   5.1744,\n          35.4032,   1.7788,  19.9572,  -3.4260,  12.6115,   1.5618,  16.5668,\n          -3.7526,   3.9297,  -9.9369,  -4.5472,  28.8338,  34.5560,  15.3711,\n          -2.1632,   3.5442,  10.2373,   6.8024, -13.5585, -35.7496, -14.3184,\n         -11.7207,  -1.1009,  -1.7906,  -0.1248, -11.6610,  10.2103,  -1.4551,\n         -13.9517, -19.5545, -13.3866, -22.8139, -20.6193,   4.9487,  30.1665,\n          -1.0930,   9.3571,  13.6123, -12.6326,  -7.5198,  -8.2586,  15.2760,\n         -17.2083, -13.0007,   9.8244,  -2.7843,  -6.8892,   7.8586,  13.8003,\n           9.5246,   7.2251,  18.2536,  10.3795,  12.8269,   4.7448,  11.6996,\n           2.4473,  12.9722,  30.8040,  -4.0270,   3.1518, -12.3687,  11.9208,\n          -7.3818,  -7.3934,  22.8917,   4.5907,  -2.1893, -13.6596,   8.9445,\n          -4.0174,  -8.9499,   1.1174,  -0.2830, -36.9903,  14.7641,   3.1716,\n          -2.2184,   7.3707,   2.2966,  -4.1661,  20.9403,   6.2289,   3.7682,\n         -12.9758,  -7.8043,  -5.8906,  -1.6336,  -4.3539, -15.2875,   4.9546,\n           9.8673,  10.9163,  12.7622,  12.0253,   2.1513,  27.6279,  31.3684,\n          -1.9564,  10.0441, -19.6775,  26.0248,  18.7306,  -3.7333,   1.3479,\n           5.0018,  18.4843,  -3.0912,  -5.9504,  -0.7427,   3.9887,  11.7565,\n         -14.4322,  10.2711,  -2.6221,  -7.0880, -29.9987,  -8.4733,  13.9815,\n           7.7158,  -6.9102, -26.8517, -11.4723,  14.8249,  -5.0271,   2.0374,\n          -4.6912,   4.0990,  -4.7481, -17.1654, -12.4348, -22.3018, -14.5364,\n          -8.0027,   1.1714, -10.7042,   9.9020,  31.3627, -20.7698,  20.4233,\n           2.3608,  16.7349,   3.9265,  -2.1820, -23.7460, -24.7878,   1.5347,\n           6.0711,   6.8338, -22.3991,  30.1725,   1.6251,  17.9119,  -2.1667,\n          18.5110,   2.9031,  -1.4303,   3.4587,  -0.4548,  20.8418,  15.9544,\n          -3.2988,  -7.5301,  -1.7362,  19.9414,  -2.1947,   6.3274,   2.2368,\n          19.2300,   2.5240,  -3.3446,  11.9525,  14.2356,  20.7604,  -4.3937,\n         -36.7074, -13.8476, -19.6992,  -6.1064,  26.1167,   0.5264, -10.8089,\n          11.4815, -33.8653,   8.7255,  16.4578,   2.7324,   0.4947, -18.7095,\n          -4.9229,  15.7764,   2.8085,   2.0592,  -2.5113,   3.6251,   5.8575,\n           1.8763,   0.7876,  25.4001,   0.8606,  22.1134,  12.9123,  31.4347,\n         -31.5894,  -7.6634, -16.1031,  -8.5410,  17.7790,  -4.9390,  19.9144,\n           2.2474,   1.1555, -20.6928,  -7.0761, -12.8055,   9.6100,  -4.3408,\n         -12.2580,   8.6474,  -5.9456,  18.4387,  17.7036,  -4.1029,  -1.2479,\n          -1.5029,  -3.2009,   5.1069,  -1.8777,   6.9210, -13.6519, -27.9781,\n           4.2689,  -6.9287,  12.0150, -11.0645,  -5.9555,  28.7862, -17.4701,\n           0.2363,  -3.2829,   8.8132,  -5.2378,   1.4530,  -0.3114,  -2.5703,\n         -28.8097,   8.8361,  15.1025,  -4.4465,  -7.0057,  30.6613]])\n"
    }
   ],
   "metadata": {},
   "execution_count": 5
  },
  {
   "source": [
    "dur = []\n",
    "for epoch in range(30):\n",
    "    if epoch >= 3:\n",
    "        t0 = time.time()\n",
    "\n",
    "    logits = net(G.ndata[\"feat\"])\n",
    "    logp = F.log_softmax(logits, 1)\n",
    "    loss = F.nll_loss(logp[mask], labels[mask])\n",
    "\n",
    "    optimizer.zero_grad()\n",
    "    loss.backward()\n",
    "    optimizer.step()\n",
    "\n",
    "    if epoch >= 3:\n",
    "        dur.append(time.time() - t0)\n",
    "\n",
    "    print(\"Epoch {:05d} | Loss {:.4f} | Time(s) {:.4f}\".format(\n",
    "        epoch, loss.item(), np.mean(dur)))"
   ],
   "cell_type": "code",
   "outputs": [
    {
     "output_type": "error",
     "ename": "NameError",
     "evalue": "name 'mask' is not defined",
     "traceback": [
      "\u001b[0;31m---------------------------------------------------------------------------\u001b[0m",
      "\u001b[0;31mNameError\u001b[0m                                 Traceback (most recent call last)",
      "\u001b[0;32m<ipython-input-8-f5f0b2c9c6aa>\u001b[0m in \u001b[0;36m<module>\u001b[0;34m\u001b[0m\n\u001b[1;32m      6\u001b[0m     \u001b[0mlogits\u001b[0m \u001b[0;34m=\u001b[0m \u001b[0mnet\u001b[0m\u001b[0;34m(\u001b[0m\u001b[0mG\u001b[0m\u001b[0;34m.\u001b[0m\u001b[0mndata\u001b[0m\u001b[0;34m[\u001b[0m\u001b[0;34m\"feat\"\u001b[0m\u001b[0;34m]\u001b[0m\u001b[0;34m)\u001b[0m\u001b[0;34m\u001b[0m\u001b[0m\n\u001b[1;32m      7\u001b[0m     \u001b[0mlogp\u001b[0m \u001b[0;34m=\u001b[0m \u001b[0mF\u001b[0m\u001b[0;34m.\u001b[0m\u001b[0mlog_softmax\u001b[0m\u001b[0;34m(\u001b[0m\u001b[0mlogits\u001b[0m\u001b[0;34m,\u001b[0m \u001b[0;36m1\u001b[0m\u001b[0;34m)\u001b[0m\u001b[0;34m\u001b[0m\u001b[0m\n\u001b[0;32m----> 8\u001b[0;31m     \u001b[0mloss\u001b[0m \u001b[0;34m=\u001b[0m \u001b[0mF\u001b[0m\u001b[0;34m.\u001b[0m\u001b[0mnll_loss\u001b[0m\u001b[0;34m(\u001b[0m\u001b[0mlogp\u001b[0m\u001b[0;34m[\u001b[0m\u001b[0mmask\u001b[0m\u001b[0;34m]\u001b[0m\u001b[0;34m,\u001b[0m \u001b[0mlabels\u001b[0m\u001b[0;34m[\u001b[0m\u001b[0mmask\u001b[0m\u001b[0;34m]\u001b[0m\u001b[0;34m)\u001b[0m\u001b[0;34m\u001b[0m\u001b[0m\n\u001b[0m\u001b[1;32m      9\u001b[0m \u001b[0;34m\u001b[0m\u001b[0m\n\u001b[1;32m     10\u001b[0m     \u001b[0moptimizer\u001b[0m\u001b[0;34m.\u001b[0m\u001b[0mzero_grad\u001b[0m\u001b[0;34m(\u001b[0m\u001b[0;34m)\u001b[0m\u001b[0;34m\u001b[0m\u001b[0m\n",
      "\u001b[0;31mNameError\u001b[0m: name 'mask' is not defined"
     ]
    }
   ],
   "metadata": {},
   "execution_count": 8
  },
  {
   "cell_type": "code",
   "execution_count": null,
   "metadata": {},
   "outputs": [],
   "source": []
  },
  {
   "source": [
    "net = GAT(G, in_dim=300, hidden_dim=8, out_dim=2, num_heads=2)\n",
    "\n",
    "optimizer = torch.optim.Adam(net.parameters(), lr=0.001)"
   ],
   "cell_type": "code",
   "outputs": [],
   "metadata": {},
   "execution_count": 6
  }
 ]
}