{
 "nbformat": 4,
 "nbformat_minor": 2,
 "metadata": {
  "language_info": {
   "name": "python",
   "codemirror_mode": {
    "name": "ipython",
    "version": 3
   }
  },
  "orig_nbformat": 2,
  "file_extension": ".py",
  "mimetype": "text/x-python",
  "name": "python",
  "npconvert_exporter": "python",
  "pygments_lexer": "ipython3",
  "version": 3
 },
 "cells": [
  {
   "cell_type": "code",
   "execution_count": null,
   "metadata": {},
   "outputs": [],
   "source": [
    "import pyTigerGraph as tg\n",
    "import dgl\n",
    "import networkx as nx\n",
    "import torch\n",
    "from py_scripts.gat import GAT\n",
    "import torch.nn as nn\n",
    "import torch.nn.functional as F\n",
    "import py_scripts.cfg as cfg\n",
    "import gensim\n",
    "import time\n",
    "import numpy as np"
   ]
  },
  {
   "cell_type": "code",
   "execution_count": null,
   "metadata": {},
   "outputs": [],
   "source": [
    "numEpochs = 1000\n",
    "learningRate = 0.01\n",
    "wantedTopic = \"Saxophone\"\n",
    "unwantedTopic = \"Falkland_Islands\" #In future, determine automatically through the inverse of PageRank/other centrality algo"
   ]
  },
  {
   "cell_type": "code",
   "execution_count": null,
   "metadata": {},
   "outputs": [],
   "source": [
    "conn = tg.TigerGraphConnection(ipAddress=\"https://wikipediagraph.i.tgcloud.us\", apiToken=cfg.token, graphname=\"WikipediaGraph\") # connection to TigerGraph database\n",
    "\n",
    "articleToNum = {} # translation dictionary for article name to number (for dgl)\n",
    "numToArticle = {} # translation dictionary for number to article name\n",
    "i = 0\n",
    "def createEdgeList(result): # returns tuple of number version of edge\n",
    "    global i\n",
    "    if result[\"article1\"] in articleToNum:\n",
    "        fromKey = articleToNum[result[\"article1\"]]\n",
    "    else:\n",
    "        articleToNum[result[\"article1\"]] = i\n",
    "        numToArticle[i] = result[\"article1\"]\n",
    "        fromKey = i\n",
    "        i+=1\n",
    "    if result[\"article2\"] in articleToNum:\n",
    "        toKey = articleToNum[result[\"article2\"]]\n",
    "    else:\n",
    "        articleToNum[result[\"article2\"]] = i\n",
    "        numToArticle[i] = result[\"article2\"]\n",
    "        toKey = i\n",
    "        i+=1\n",
    "    return (fromKey, toKey)\n",
    "    \n",
    "edges = [createEdgeList(thing) for thing in conn.runInstalledQuery(\"tupleArticle\", {})[\"results\"][0][\"list_of_article_tuples\"]] # creates list of edges\n"
   ]
  },
  {
   "cell_type": "code",
   "execution_count": null,
   "metadata": {},
   "outputs": [],
   "source": [
    "wantedNum = articleToNum[wantedTopic]\n",
    "unwantedNum = articleToNum[unwantedTopic]\n",
    "\n",
    "g = nx.DiGraph()\n",
    "\n",
    "g.add_edges_from(edges)\n",
    "\n",
    "G = dgl.DGLGraph(g)\n",
    "\n",
    "print('We have %d nodes.' % G.number_of_nodes())\n",
    "print('We have %d edges.' % G.number_of_edges())"
   ]
  },
  {
   "cell_type": "code",
   "execution_count": null,
   "metadata": {},
   "outputs": [],
   "source": [
    "d2v_model = gensim.models.doc2vec.Doc2Vec.load(\"doc2vec.model\")\n",
    "vectors = []\n",
    "for article in articleToNum:\n",
    "    try: \n",
    "        words = [] \n",
    "        with open((\"plaintext_articles/\"+article+\".txt\"), \"r\") as f: \n",
    "            words = f.read().lower().split() \n",
    "        vectors.append(list(d2v_model.infer_vector(words)))\n",
    "    except:\n",
    "        vectors.append([0 for i in range(300)])\n",
    "\n",
    "G.ndata[\"feat\"] = torch.tensor(vectors)\n",
    "\n",
    "print(G.nodes[2].data['feat'])"
   ]
  },
  {
   "cell_type": "code",
   "execution_count": null,
   "metadata": {},
   "outputs": [],
   "source": [
    "net = GAT(G, G.n)"
   ]
  }
 ]
}