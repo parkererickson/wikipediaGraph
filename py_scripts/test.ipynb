{
 "nbformat": 4,
 "nbformat_minor": 2,
 "metadata": {
  "language_info": {
   "name": "python",
   "codemirror_mode": {
    "name": "ipython",
    "version": 3
   },
   "version": "3.6.5"
  },
  "orig_nbformat": 2,
  "file_extension": ".py",
  "mimetype": "text/x-python",
  "name": "python",
  "npconvert_exporter": "python",
  "pygments_lexer": "ipython3",
  "version": 3
 },
 "cells": [
  {
   "cell_type": "code",
   "execution_count": 5,
   "metadata": {},
   "outputs": [
    {
     "name": "stdout",
     "output_type": "stream",
     "text": "Question ID   Fold                  Answer           Category  \\\n0         3009  train      Henry IV of France            History   \n1       200192  train  Great Famine (Ireland)     History:Europe   \n2       205242  train       Mass spectrometry  Science:Chemistry   \n3       202398  train                   Ester  Science:Chemistry   \n4       111634  train                     Tyr     Social_Science   \n\n                                                Text  \n0  With the assistence of his chief minister, the...  \n1  During this event, Charles Wood instructed Lor...  \n2  One form of this technique based off the cyclo...  \n3  A carbon alpha to two carbons with this functi...  \n4  This god is sometimes called Thingsus, which r...  \n"
    }
   ],
   "source": [
    "import pandas as pd \n",
    "df = pd.read_csv(\"questions/question_data/questions.csv\")\n",
    "\n",
    "print(df.head())\n",
    "\n",
    "titles = []\n",
    "texts = []\n",
    "for index, row in df.iterrows():\n",
    "    titles.append(row[\"Answer\"])\n",
    "    texts.append(row[\"Text\"])\n"
   ]
  },
  {
   "cell_type": "code",
   "execution_count": null,
   "metadata": {},
   "outputs": [],
   "source": []
  }
 ]
}